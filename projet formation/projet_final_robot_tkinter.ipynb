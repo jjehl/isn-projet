{
 "cells": [
  {
   "cell_type": "markdown",
   "metadata": {},
   "source": [
    "# Projet Poppy-torso : distinguer la dureté des objets (tkinter)"
   ]
  },
  {
   "cell_type": "markdown",
   "metadata": {},
   "source": [
    "Avant de lancer la cellule suivante, il faut déterminer l'adresse ip du robot !!!"
   ]
  },
  {
   "cell_type": "code",
   "execution_count": 1,
   "metadata": {
    "collapsed": false
   },
   "outputs": [],
   "source": [
    "import Tkinter as tk\n",
    "from os import sep\n",
    "\n",
    "##----- Création de la fenêtre -----##\n",
    "cube = tk.Tk()                                                                    # Stockée dans la variable \"cube\"\n",
    "cube.title('Saisis des coordonnées du centre de gravité du cube')                 # Attribue un nom à la fenêtre\n",
    "cube.geometry('390x450+450+100')         # Premier nombre : largeur, second nombre : hauteur, 3e nombre : ancrage x, 4e nombre : ancrage y\n",
    "\n",
    "##----- Création des zones de texte -----##\n",
    "texte_aide = tk.Label(cube, text=\"Afin de réaliser l'expérience, il est nécessaire \\n d'entrer les coordonnées du centre de gravité du cube\")\n",
    "texte_aide.grid(row = 0, column = 1)\n",
    "\n",
    "##----- Création du canevas -----##\n",
    "dessin = tk.Canvas(cube, width = 225, height = 225, bg='white')         # Fond blanc\n",
    "dessin.grid(row = 1, column = 1)\n",
    "\n",
    "##----- Ajout de l'image du robot -----##\n",
    "\n",
    "im = tk.PhotoImage(file = 'images{}robot25.gif'.format(sep))\n",
    "logo1 = dessin.create_image(114, 114, image = im)\n",
    "\n",
    "##----- Définitions des Fonctions -----##\n",
    "def coordonnee():\n",
    "    global a, b, c, nb_objet\n",
    "    a = saisie_textex.get()\n",
    "    b = saisie_textey.get()\n",
    "    c = saisie_textez.get()\n",
    "    nb_objet = saisie_textezz.get()\n",
    "    cube.quit()\n",
    "    \n",
    "##----- Création des zones de texte -----##\n",
    "texte_questionx = tk.Label(cube, text='Entrez la coordonnées x du cube : ')\n",
    "texte_questionx.grid(row = 2, column = 1)\n",
    "texte_questiony = tk.Label(cube, text='Entrez la coordonnées y du cube : ')\n",
    "texte_questiony.grid(row = 4, column = 1)\n",
    "texte_questionz = tk.Label(cube, text='Entrez la coordonnées z du cube : ')\n",
    "texte_questionz.grid(row = 6, column = 1)\n",
    "texte_questionzz = tk.Label(cube, text=\"Entrez le nombre d'objet à tester : \")\n",
    "texte_questionzz.grid(row = 8, column = 1)\n",
    "\n",
    "##----- Création des formulaires -----##\n",
    "saisie_textex = tk.Entry(cube)\n",
    "saisie_textex.grid(row = 3, column = 1)\n",
    "saisie_textey = tk.Entry(cube)\n",
    "saisie_textey.grid(row = 5, column = 1)\n",
    "saisie_textez = tk.Entry(cube)\n",
    "saisie_textez.grid(row = 7, column = 1)\n",
    "saisie_textezz = tk.Entry(cube)\n",
    "saisie_textezz.grid(row = 9, column = 1)\n",
    "\n",
    "##----- Création des boutons -----##\n",
    "bouton_valider = tk.Button(cube, text='Valider', command=coordonnee)\n",
    "bouton_valider.grid(row = 10, column = 2)\n",
    "bouton_quitter = tk.Button(cube, text='Quitter', command=cube.quit)\n",
    "bouton_quitter.grid(row = 10, column = 0)\n",
    "\n",
    "##-----Programme principal-----##\n",
    "cube.mainloop()                      # Boucle d'attente des événements\n",
    "try:\n",
    "    cube.destroy()\n",
    "except tk.TclError:\n",
    "    pass\n",
    "\n",
    "import paramiko\n",
    "\n",
    "ssh = paramiko.SSHClient()\n",
    "ssh.set_missing_host_key_policy(paramiko.AutoAddPolicy())\n",
    "ssh.connect('192.168.0.46', username='poppy', password='poppy')\n",
    "command = \"cd notebooks/notebooks/projet_isn_fin/;/home/poppy/.pyenv/versions/2.7.9/bin/python main_ssh.py \"+ str(a) + \" \" + str(b) + \" \" + str(c) + \" \" + str(nb_objet)\n",
    "stdin, stdout, stderr = ssh.exec_command(command)\n",
    "\n",
    "result = stdout.readlines()"
   ]
  },
  {
   "cell_type": "code",
   "execution_count": 2,
   "metadata": {
    "collapsed": false
   },
   "outputs": [
    {
     "data": {
      "text/plain": [
       "[u\"temps d'\\xe9x\\xe9cution : 0.00233817100525\\n\",\n",
       " u\"temps d'\\xe9x\\xe9cution : 0.186350107193\\n\",\n",
       " u'1\\n',\n",
       " u'3\\n',\n",
       " u'2\\n']"
      ]
     },
     "execution_count": 2,
     "metadata": {},
     "output_type": "execute_result"
    }
   ],
   "source": [
    "result"
   ]
  },
  {
   "cell_type": "code",
   "execution_count": null,
   "metadata": {
    "collapsed": true
   },
   "outputs": [],
   "source": []
  }
 ],
 "metadata": {
  "language_info": {
   "codemirror_mode": {
    "name": "ipython",
    "version": 2
   },
   "file_extension": ".py",
   "mimetype": "text/x-python",
   "name": "python",
   "nbconvert_exporter": "python",
   "pygments_lexer": "ipython2",
   "version": "2.7.9"
  }
 },
 "nbformat": 4,
 "nbformat_minor": 0
}
